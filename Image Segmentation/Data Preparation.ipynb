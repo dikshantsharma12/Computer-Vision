{
 "cells": [
  {
   "cell_type": "code",
   "execution_count": 20,
   "id": "884b85ee",
   "metadata": {},
   "outputs": [],
   "source": [
    "input_path=\"C:\\Users\\Dikshant Sharma\\Documents\\Github\\Computer Vision\\Image Segmentation\\data\\file\\labels\"\n",
    "output_path=\"C:\\Users\\Dikshant Sharma\\Documents\\Github\\Computer Vision\\Image Segmentation\\data\\groups\\labels\"\n",
    "\n"
   ]
  },
  {
   "cell_type": "code",
   "execution_count": 21,
   "id": "66a6d28c",
   "metadata": {},
   "outputs": [
    {
     "name": "stdout",
     "output_type": "stream",
     "text": [
      "Collecting glob2\n",
      "  Downloading glob2-0.7.tar.gz (10 kB)\n",
      "  Preparing metadata (setup.py): started\n",
      "  Preparing metadata (setup.py): finished with status 'done'\n",
      "Building wheels for collected packages: glob2\n",
      "  Building wheel for glob2 (setup.py): started\n",
      "  Building wheel for glob2 (setup.py): finished with status 'done'\n",
      "  Created wheel for glob2: filename=glob2-0.7-py2.py3-none-any.whl size=9302 sha256=f03a1b166b5048cd43f37355d19dd243daa5c9d36bcf402aabe6992e010c1d12\n",
      "  Stored in directory: c:\\users\\dikshant sharma\\appdata\\local\\pip\\cache\\wheels\\c0\\dd\\ee\\ba6164807de7570971e8f160dbe6a4178ff4e5922f48c093be\n",
      "Successfully built glob2\n",
      "Installing collected packages: glob2\n",
      "Successfully installed glob2-0.7\n"
     ]
    }
   ],
   "source": [
    "# ! pip install glob2"
   ]
  },
  {
   "cell_type": "code",
   "execution_count": 23,
   "id": "b21fa384",
   "metadata": {},
   "outputs": [
    {
     "name": "stdout",
     "output_type": "stream",
     "text": [
      "Collecting pytest-shutil\n",
      "  Downloading pytest_shutil-1.7.0-py2.py3-none-any.whl (15 kB)\n",
      "Collecting pytest\n",
      "  Downloading pytest-7.1.3-py3-none-any.whl (298 kB)\n",
      "     -------------------------------------- 298.2/298.2 kB 1.2 MB/s eta 0:00:00\n",
      "Collecting mock\n",
      "  Downloading mock-4.0.3-py3-none-any.whl (28 kB)\n",
      "Collecting execnet\n",
      "  Downloading execnet-1.9.0-py2.py3-none-any.whl (39 kB)\n",
      "Collecting path.py\n",
      "  Downloading path.py-12.5.0-py3-none-any.whl (2.3 kB)\n",
      "Collecting contextlib2\n",
      "  Downloading contextlib2-21.6.0-py2.py3-none-any.whl (13 kB)\n",
      "Requirement already satisfied: six in c:\\users\\dikshant sharma\\anaconda3\\envs\\liverimagesegmentation\\lib\\site-packages (from pytest-shutil) (1.16.0)\n",
      "Collecting termcolor\n",
      "  Downloading termcolor-1.1.0.tar.gz (3.9 kB)\n",
      "  Preparing metadata (setup.py): started\n",
      "  Preparing metadata (setup.py): finished with status 'done'\n",
      "Collecting path\n",
      "  Downloading path-16.4.0-py3-none-any.whl (26 kB)\n",
      "Requirement already satisfied: attrs>=19.2.0 in c:\\users\\dikshant sharma\\anaconda3\\envs\\liverimagesegmentation\\lib\\site-packages (from pytest->pytest-shutil) (21.4.0)\n",
      "Collecting tomli>=1.0.0\n",
      "  Downloading tomli-2.0.1-py3-none-any.whl (12 kB)\n",
      "Collecting py>=1.8.2\n",
      "  Downloading py-1.11.0-py2.py3-none-any.whl (98 kB)\n",
      "     -------------------------------------- 98.7/98.7 kB 627.4 kB/s eta 0:00:00\n",
      "Requirement already satisfied: colorama in c:\\users\\dikshant sharma\\anaconda3\\envs\\liverimagesegmentation\\lib\\site-packages (from pytest->pytest-shutil) (0.4.5)\n",
      "Collecting iniconfig\n",
      "  Downloading iniconfig-1.1.1-py2.py3-none-any.whl (5.0 kB)\n",
      "Collecting pluggy<2.0,>=0.12\n",
      "  Downloading pluggy-1.0.0-py2.py3-none-any.whl (13 kB)\n",
      "Requirement already satisfied: packaging in c:\\users\\dikshant sharma\\anaconda3\\envs\\liverimagesegmentation\\lib\\site-packages (from pytest->pytest-shutil) (21.3)\n",
      "Requirement already satisfied: pyparsing!=3.0.5,>=2.0.2 in c:\\users\\dikshant sharma\\anaconda3\\envs\\liverimagesegmentation\\lib\\site-packages (from packaging->pytest->pytest-shutil) (3.0.9)\n",
      "Building wheels for collected packages: termcolor\n",
      "  Building wheel for termcolor (setup.py): started\n",
      "  Building wheel for termcolor (setup.py): finished with status 'done'\n",
      "  Created wheel for termcolor: filename=termcolor-1.1.0-py3-none-any.whl size=4832 sha256=fad6123a691658c91aa89fe93f57d311e6bfc5c4516fa6aca792516f505940e0\n",
      "  Stored in directory: c:\\users\\dikshant sharma\\appdata\\local\\pip\\cache\\wheels\\b6\\0d\\90\\0d1bbd99855f99cb2f6c2e5ff96f8023fad8ec367695f7d72d\n",
      "Successfully built termcolor\n",
      "Installing collected packages: termcolor, iniconfig, tomli, py, pluggy, path, mock, execnet, contextlib2, pytest, path.py, pytest-shutil\n",
      "Successfully installed contextlib2-21.6.0 execnet-1.9.0 iniconfig-1.1.1 mock-4.0.3 path-16.4.0 path.py-12.5.0 pluggy-1.0.0 py-1.11.0 pytest-7.1.3 pytest-shutil-1.7.0 termcolor-1.1.0 tomli-2.0.1\n"
     ]
    }
   ],
   "source": [
    "# ! pip install pytest-shutil"
   ]
  },
  {
   "cell_type": "code",
   "execution_count": 2,
   "id": "3295dbd0",
   "metadata": {},
   "outputs": [
    {
     "name": "stdout",
     "output_type": "stream",
     "text": [
      "Looking in indexes: https://pypi.org/simple, https://download.pytorch.org/whl/cu113\n",
      "Collecting torch\n",
      "  Downloading https://download.pytorch.org/whl/cu113/torch-1.12.1%2Bcu113-cp39-cp39-win_amd64.whl (2143.3 MB)\n",
      "     ---------------------------------------- 2.1/2.1 GB 647.1 kB/s eta 0:00:00\n",
      "Collecting torchvision\n",
      "  Downloading https://download.pytorch.org/whl/cu113/torchvision-0.13.1%2Bcu113-cp39-cp39-win_amd64.whl (4.7 MB)\n",
      "     ---------------------------------------- 4.7/4.7 MB 7.0 MB/s eta 0:00:00\n",
      "Collecting torchaudio\n",
      "  Downloading https://download.pytorch.org/whl/cu113/torchaudio-0.12.1%2Bcu113-cp39-cp39-win_amd64.whl (1.2 MB)\n",
      "     ---------------------------------------- 1.2/1.2 MB 38.5 MB/s eta 0:00:00\n",
      "Requirement already satisfied: typing-extensions in c:\\users\\dikshant sharma\\anaconda3\\envs\\liverimagesegmentation\\lib\\site-packages (from torch) (4.3.0)\n",
      "Collecting numpy\n",
      "  Downloading numpy-1.23.3-cp39-cp39-win_amd64.whl (14.7 MB)\n",
      "     --------------------------------------- 14.7/14.7 MB 15.6 MB/s eta 0:00:00\n",
      "Collecting pillow!=8.3.*,>=5.3.0\n",
      "  Downloading Pillow-9.2.0-cp39-cp39-win_amd64.whl (3.3 MB)\n",
      "     ---------------------------------------- 3.3/3.3 MB 23.3 MB/s eta 0:00:00\n",
      "Collecting requests\n",
      "  Downloading requests-2.28.1-py3-none-any.whl (62 kB)\n",
      "     ---------------------------------------- 62.8/62.8 kB 3.3 MB/s eta 0:00:00\n",
      "Requirement already satisfied: certifi>=2017.4.17 in c:\\users\\dikshant sharma\\anaconda3\\envs\\liverimagesegmentation\\lib\\site-packages (from requests->torchvision) (2022.6.15)\n",
      "Collecting idna<4,>=2.5\n",
      "  Downloading idna-3.3-py3-none-any.whl (61 kB)\n",
      "     ---------------------------------------- 61.2/61.2 kB 3.2 MB/s eta 0:00:00\n",
      "Collecting charset-normalizer<3,>=2\n",
      "  Downloading charset_normalizer-2.1.1-py3-none-any.whl (39 kB)\n",
      "Collecting urllib3<1.27,>=1.21.1\n",
      "  Downloading urllib3-1.26.12-py2.py3-none-any.whl (140 kB)\n",
      "     -------------------------------------- 140.4/140.4 kB 8.7 MB/s eta 0:00:00\n",
      "Installing collected packages: urllib3, torch, pillow, numpy, idna, charset-normalizer, torchaudio, requests, torchvision\n",
      "Successfully installed charset-normalizer-2.1.1 idna-3.3 numpy-1.23.3 pillow-9.2.0 requests-2.28.1 torch-1.12.1+cu113 torchaudio-0.12.1+cu113 torchvision-0.13.1+cu113 urllib3-1.26.12\n",
      "Note: you may need to restart the kernel to use updated packages.\n"
     ]
    }
   ],
   "source": [
    "# pip install torch torchvision torchaudio --extra-index-url https://download.pytorch.org/whl/cu113"
   ]
  },
  {
   "cell_type": "code",
   "execution_count": 3,
   "id": "6a83d2d8",
   "metadata": {},
   "outputs": [
    {
     "name": "stdout",
     "output_type": "stream",
     "text": [
      "Collecting monai\n",
      "  Downloading monai-0.9.1-202207251608-py3-none-any.whl (990 kB)\n",
      "     -------------------------------------- 990.7/990.7 kB 3.7 MB/s eta 0:00:00\n",
      "Requirement already satisfied: torch>=1.7 in c:\\users\\dikshant sharma\\anaconda3\\envs\\liverimagesegmentation\\lib\\site-packages (from monai) (1.12.1+cu113)\n",
      "Requirement already satisfied: numpy>=1.17 in c:\\users\\dikshant sharma\\anaconda3\\envs\\liverimagesegmentation\\lib\\site-packages (from monai) (1.23.3)\n",
      "Requirement already satisfied: typing-extensions in c:\\users\\dikshant sharma\\anaconda3\\envs\\liverimagesegmentation\\lib\\site-packages (from torch>=1.7->monai) (4.3.0)\n",
      "Installing collected packages: monai\n",
      "Successfully installed monai-0.9.1\n",
      "Note: you may need to restart the kernel to use updated packages.\n"
     ]
    }
   ],
   "source": [
    "pip install monai"
   ]
  },
  {
   "cell_type": "code",
   "execution_count": 4,
   "id": "27cb8b52",
   "metadata": {},
   "outputs": [
    {
     "name": "stdout",
     "output_type": "stream",
     "text": [
      "^C\n",
      "Note: you may need to restart the kernel to use updated packages.\n"
     ]
    }
   ],
   "source": []
  },
  {
   "cell_type": "code",
   "execution_count": 25,
   "id": "63a27523",
   "metadata": {},
   "outputs": [],
   "source": [
    "from glob import glob\n",
    "import shutil\n",
    "import os"
   ]
  },
  {
   "cell_type": "code",
   "execution_count": null,
   "id": "cb029d39",
   "metadata": {},
   "outputs": [],
   "source": [
    "for patient in glob(in_path+\"/*\"):\n",
    "    patient_name=os.path.basename(os.path.normpath(patient))\n",
    "    number_folders=int(len(glob(patient+\"/*\"))/64)"
   ]
  }
 ],
 "metadata": {
  "kernelspec": {
   "display_name": "Python 3 (ipykernel)",
   "language": "python",
   "name": "python3"
  },
  "language_info": {
   "codemirror_mode": {
    "name": "ipython",
    "version": 3
   },
   "file_extension": ".py",
   "mimetype": "text/x-python",
   "name": "python",
   "nbconvert_exporter": "python",
   "pygments_lexer": "ipython3",
   "version": "3.9.13"
  }
 },
 "nbformat": 4,
 "nbformat_minor": 5
}
